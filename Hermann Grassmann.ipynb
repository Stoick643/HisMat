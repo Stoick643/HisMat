{
 "cells": [
  {
   "cell_type": "markdown",
   "metadata": {},
   "source": [
    "Hermann Günther Grassmann (nemško: Graßmann; April 15, 1809 – September 26, 1877) je bil nemški polimat, ki je v svojem času znan kot jezikoslovec in zdaj tudi kot matematik. Bil je tudi fizik, neohumanist, splošni učenjak in založnik. Njegovo matematično delo je bilo malo opazno, dokler ni bil v šestdesetih letih."
   ]
  },
  {
   "cell_type": "markdown",
   "metadata": {},
   "source": [
    "Rojen je bil v mestu Ščečin, tedaj kraj v Pomeraniji, provinci Pruskega kraljevstva.\n",
    "Leži ob reki Odri, nedaleč od Baltskega morja.\n",
    "Tam je preživel večino življenju in tudi umrl. \n",
    "Etimologija: po more -> Primorska\n",
    "\n",
    "Mecklenburg-Predpomorjanska (nemško Mecklenburg-Vorpommern) je dežela v Nemčiji. Leži na skrajnem severovzhodu države; na vzhodu meji na Poljsko, na jugu na Brandenburg, na jugozahodu na Spodnjo Saško, na zahodu na Schleswig-Holstein, s severne strani pa jo obdaja Baltsko morje. Glavno mesto je Schwerin, največje pa Rostock.\n",
    "\n",
    "https://sl.wikipedia.org/wiki/Mecklenburg-Predpomorjanska#/media/File:Mecklenburg-Vorpommern_Map_Districts_Border_Mecklenburg_Western_Pomerania_-_Landkreise_Grenzen_Karte_MV_MeckPomm.svg\n",
    "\n",
    "Poljska:\n",
    "Zahodnopomorjansko vojvodstvo\n",
    "\n",
    "1\tWarsaw\t\n",
    "2\tKraków\t\n",
    "3\tLódz\t\n",
    "4\tWroclaw\t\n",
    "5\tPoznan\t\n",
    "6\tGdansk\t\n",
    "7\tSzczecin\n",
    "\n",
    "Leta 1720 je bila Švedska po severni vojni prisiljena odstopiti mestu Kralju Frederiku Williamu I iz Prusije. Štettin je postal glavno mesto Brandenburško-pruske pomorjanske pokrajine, od leta 1815 se je preoblikovala kot pokrajina Pomeranija. Leta 1816 je bilo v mestu 26.000 prebivalcev.\n",
    "\n",
    "Oktobra 1806 je med vojno četrte koalicije verjel, da se je soočal s precej večjimi silami in po tem, ko je grozil z grobo obravnavo mesta, se je pruski poveljnik generalpodpolkovnik Friedrich von Romberg strinjal, da bo mesto predal francoskemu pod vodstvom generala Lassalleja. Pravzaprav je Lassalle imel samo 800 moških proti von Rombergovim 5.300 moškimi. Marca 1809 je bil Romberg obsojen in obsojen na doživljensko zaporno kazen, ker se je brez odpora odrekel Stettinu."
   ]
  },
  {
   "cell_type": "code",
   "execution_count": null,
   "metadata": {
    "collapsed": true
   },
   "outputs": [],
   "source": []
  }
 ],
 "metadata": {
  "kernelspec": {
   "display_name": "Python 3",
   "language": "python",
   "name": "python3"
  },
  "language_info": {
   "codemirror_mode": {
    "name": "ipython",
    "version": 3
   },
   "file_extension": ".py",
   "mimetype": "text/x-python",
   "name": "python",
   "nbconvert_exporter": "python",
   "pygments_lexer": "ipython3",
   "version": "3.5.2"
  }
 },
 "nbformat": 4,
 "nbformat_minor": 2
}
