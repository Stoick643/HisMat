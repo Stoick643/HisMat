{
 "cells": [
  {
   "cell_type": "code",
   "execution_count": null,
   "metadata": {
    "collapsed": true,
    "deletable": true,
    "editable": true
   },
   "outputs": [],
   "source": [
    "### Isaac Newton"
   ]
  },
  {
   "cell_type": "markdown",
   "metadata": {
    "deletable": true,
    "editable": true
   },
   "source": [
    "Za uvod nekaj zanimivosti iz Newtonovega življenja.\n",
    "\n",
    "![Leonardo](./images/Leonardo_Annunciazione.jpg)\n",
    "\n",
    "text\n",
    "\n",
    "<!--![Gregorijanski](images/Gregoriancalendarleap_solstice.svg)-->\n",
    "\n",
    "1642 - 1726 ali 1643 - 1727?\n",
    "\n",
    "Velika Britanija uvede gregorijanski koledar in začetek novega leta kot 1. januar šele leta \n",
    "<a href='http://www.historytoday.com/richard-cavendish/gregorian-calendar-adopted-england'>1752</a>.\n",
    "\n",
    "\n",
    "25 December 1642 – 20 Marec 1726 (os) -> 4 Januar 1643 – 31 Marec 1727 (ns)"
   ]
  },
  {
   "cell_type": "markdown",
   "metadata": {
    "deletable": true,
    "editable": true
   },
   "source": [
    "Robert Hooke\n",
    "![Hooke by Rita Greer](images/Robert_Hooke.jpg)"
   ]
  }
 ],
 "metadata": {
  "kernelspec": {
   "display_name": "Python 3",
   "language": "python",
   "name": "python3"
  },
  "language_info": {
   "codemirror_mode": {
    "name": "ipython",
    "version": 3
   },
   "file_extension": ".py",
   "mimetype": "text/x-python",
   "name": "python",
   "nbconvert_exporter": "python",
   "pygments_lexer": "ipython3",
   "version": "3.5.2"
  }
 },
 "nbformat": 4,
 "nbformat_minor": 2
}
